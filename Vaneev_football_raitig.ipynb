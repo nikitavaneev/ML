{
 "cells": [
  {
   "cell_type": "markdown",
   "metadata": {
    "collapsed": true,
    "pycharm": {
     "name": "#%% md\n"
    }
   },
   "source": [
    "привет"
   ]
  },
  {
   "cell_type": "code",
   "execution_count": 6,
   "outputs": [
    {
     "data": {
      "text/plain": "         п»ї      ID                Name  Age  \\\n0          0  158023            L. Messi   31   \n1          1   20801   Cristiano Ronaldo   33   \n2          2  190871           Neymar Jr   26   \n3          3  193080              De Gea   27   \n4          4  192985        K. De Bruyne   27   \n...      ...     ...                 ...  ...   \n18202  18202  238813        J. Lundstram   19   \n18203  18203  243165  N. Christoffersson   19   \n18204  18204  241638           B. Worman   16   \n18205  18205  246268      D. Walker-Rice   17   \n18206  18206  246269           G. Nugent   16   \n\n                                                Photo Nationality  \\\n0      https://cdn.sofifa.org/players/4/19/158023.png   Argentina   \n1       https://cdn.sofifa.org/players/4/19/20801.png    Portugal   \n2      https://cdn.sofifa.org/players/4/19/190871.png      Brazil   \n3      https://cdn.sofifa.org/players/4/19/193080.png       Spain   \n4      https://cdn.sofifa.org/players/4/19/192985.png     Belgium   \n...                                               ...         ...   \n18202  https://cdn.sofifa.org/players/4/19/238813.png     England   \n18203  https://cdn.sofifa.org/players/4/19/243165.png      Sweden   \n18204  https://cdn.sofifa.org/players/4/19/241638.png     England   \n18205  https://cdn.sofifa.org/players/4/19/246268.png     England   \n18206  https://cdn.sofifa.org/players/4/19/246269.png     England   \n\n                                      Flag  Overall  Potential  \\\n0      https://cdn.sofifa.org/flags/52.png       94         94   \n1      https://cdn.sofifa.org/flags/38.png       94         94   \n2      https://cdn.sofifa.org/flags/54.png       92         93   \n3      https://cdn.sofifa.org/flags/45.png       91         93   \n4       https://cdn.sofifa.org/flags/7.png       91         92   \n...                                    ...      ...        ...   \n18202  https://cdn.sofifa.org/flags/14.png       47         65   \n18203  https://cdn.sofifa.org/flags/46.png       47         63   \n18204  https://cdn.sofifa.org/flags/14.png       47         67   \n18205  https://cdn.sofifa.org/flags/14.png       47         66   \n18206  https://cdn.sofifa.org/flags/14.png       46         66   \n\n                      Club  ... Composure Marking StandingTackle  \\\n0             FC Barcelona  ...      96.0    33.0           28.0   \n1                 Juventus  ...      95.0    28.0           31.0   \n2      Paris Saint-Germain  ...      94.0    27.0           24.0   \n3        Manchester United  ...      68.0    15.0           21.0   \n4          Manchester City  ...      88.0    68.0           58.0   \n...                    ...  ...       ...     ...            ...   \n18202      Crewe Alexandra  ...      45.0    40.0           48.0   \n18203       Trelleborgs FF  ...      42.0    22.0           15.0   \n18204     Cambridge United  ...      41.0    32.0           13.0   \n18205      Tranmere Rovers  ...      46.0    20.0           25.0   \n18206      Tranmere Rovers  ...      43.0    40.0           43.0   \n\n       SlidingTackle GKDiving  GKHandling  GKKicking  GKPositioning  \\\n0               26.0      6.0        11.0       15.0           14.0   \n1               23.0      7.0        11.0       15.0           14.0   \n2               33.0      9.0         9.0       15.0           15.0   \n3               13.0     90.0        85.0       87.0           88.0   \n4               51.0     15.0        13.0        5.0           10.0   \n...              ...      ...         ...        ...            ...   \n18202           47.0     10.0        13.0        7.0            8.0   \n18203           19.0     10.0         9.0        9.0            5.0   \n18204           11.0      6.0         5.0       10.0            6.0   \n18205           27.0     14.0         6.0       14.0            8.0   \n18206           50.0     10.0        15.0        9.0           12.0   \n\n      GKReflexes Release Clause  \n0            8.0         226.5M  \n1           11.0         127.1M  \n2           11.0         228.1M  \n3           94.0         138.6M  \n4           13.0         196.4M  \n...          ...            ...  \n18202        9.0           143K  \n18203       12.0           113K  \n18204       13.0           165K  \n18205        9.0           143K  \n18206        9.0           165K  \n\n[18207 rows x 89 columns]",
      "text/html": "<div>\n<style scoped>\n    .dataframe tbody tr th:only-of-type {\n        vertical-align: middle;\n    }\n\n    .dataframe tbody tr th {\n        vertical-align: top;\n    }\n\n    .dataframe thead th {\n        text-align: right;\n    }\n</style>\n<table border=\"1\" class=\"dataframe\">\n  <thead>\n    <tr style=\"text-align: right;\">\n      <th></th>\n      <th>п»ї</th>\n      <th>ID</th>\n      <th>Name</th>\n      <th>Age</th>\n      <th>Photo</th>\n      <th>Nationality</th>\n      <th>Flag</th>\n      <th>Overall</th>\n      <th>Potential</th>\n      <th>Club</th>\n      <th>...</th>\n      <th>Composure</th>\n      <th>Marking</th>\n      <th>StandingTackle</th>\n      <th>SlidingTackle</th>\n      <th>GKDiving</th>\n      <th>GKHandling</th>\n      <th>GKKicking</th>\n      <th>GKPositioning</th>\n      <th>GKReflexes</th>\n      <th>Release Clause</th>\n    </tr>\n  </thead>\n  <tbody>\n    <tr>\n      <th>0</th>\n      <td>0</td>\n      <td>158023</td>\n      <td>L. Messi</td>\n      <td>31</td>\n      <td>https://cdn.sofifa.org/players/4/19/158023.png</td>\n      <td>Argentina</td>\n      <td>https://cdn.sofifa.org/flags/52.png</td>\n      <td>94</td>\n      <td>94</td>\n      <td>FC Barcelona</td>\n      <td>...</td>\n      <td>96.0</td>\n      <td>33.0</td>\n      <td>28.0</td>\n      <td>26.0</td>\n      <td>6.0</td>\n      <td>11.0</td>\n      <td>15.0</td>\n      <td>14.0</td>\n      <td>8.0</td>\n      <td>226.5M</td>\n    </tr>\n    <tr>\n      <th>1</th>\n      <td>1</td>\n      <td>20801</td>\n      <td>Cristiano Ronaldo</td>\n      <td>33</td>\n      <td>https://cdn.sofifa.org/players/4/19/20801.png</td>\n      <td>Portugal</td>\n      <td>https://cdn.sofifa.org/flags/38.png</td>\n      <td>94</td>\n      <td>94</td>\n      <td>Juventus</td>\n      <td>...</td>\n      <td>95.0</td>\n      <td>28.0</td>\n      <td>31.0</td>\n      <td>23.0</td>\n      <td>7.0</td>\n      <td>11.0</td>\n      <td>15.0</td>\n      <td>14.0</td>\n      <td>11.0</td>\n      <td>127.1M</td>\n    </tr>\n    <tr>\n      <th>2</th>\n      <td>2</td>\n      <td>190871</td>\n      <td>Neymar Jr</td>\n      <td>26</td>\n      <td>https://cdn.sofifa.org/players/4/19/190871.png</td>\n      <td>Brazil</td>\n      <td>https://cdn.sofifa.org/flags/54.png</td>\n      <td>92</td>\n      <td>93</td>\n      <td>Paris Saint-Germain</td>\n      <td>...</td>\n      <td>94.0</td>\n      <td>27.0</td>\n      <td>24.0</td>\n      <td>33.0</td>\n      <td>9.0</td>\n      <td>9.0</td>\n      <td>15.0</td>\n      <td>15.0</td>\n      <td>11.0</td>\n      <td>228.1M</td>\n    </tr>\n    <tr>\n      <th>3</th>\n      <td>3</td>\n      <td>193080</td>\n      <td>De Gea</td>\n      <td>27</td>\n      <td>https://cdn.sofifa.org/players/4/19/193080.png</td>\n      <td>Spain</td>\n      <td>https://cdn.sofifa.org/flags/45.png</td>\n      <td>91</td>\n      <td>93</td>\n      <td>Manchester United</td>\n      <td>...</td>\n      <td>68.0</td>\n      <td>15.0</td>\n      <td>21.0</td>\n      <td>13.0</td>\n      <td>90.0</td>\n      <td>85.0</td>\n      <td>87.0</td>\n      <td>88.0</td>\n      <td>94.0</td>\n      <td>138.6M</td>\n    </tr>\n    <tr>\n      <th>4</th>\n      <td>4</td>\n      <td>192985</td>\n      <td>K. De Bruyne</td>\n      <td>27</td>\n      <td>https://cdn.sofifa.org/players/4/19/192985.png</td>\n      <td>Belgium</td>\n      <td>https://cdn.sofifa.org/flags/7.png</td>\n      <td>91</td>\n      <td>92</td>\n      <td>Manchester City</td>\n      <td>...</td>\n      <td>88.0</td>\n      <td>68.0</td>\n      <td>58.0</td>\n      <td>51.0</td>\n      <td>15.0</td>\n      <td>13.0</td>\n      <td>5.0</td>\n      <td>10.0</td>\n      <td>13.0</td>\n      <td>196.4M</td>\n    </tr>\n    <tr>\n      <th>...</th>\n      <td>...</td>\n      <td>...</td>\n      <td>...</td>\n      <td>...</td>\n      <td>...</td>\n      <td>...</td>\n      <td>...</td>\n      <td>...</td>\n      <td>...</td>\n      <td>...</td>\n      <td>...</td>\n      <td>...</td>\n      <td>...</td>\n      <td>...</td>\n      <td>...</td>\n      <td>...</td>\n      <td>...</td>\n      <td>...</td>\n      <td>...</td>\n      <td>...</td>\n      <td>...</td>\n    </tr>\n    <tr>\n      <th>18202</th>\n      <td>18202</td>\n      <td>238813</td>\n      <td>J. Lundstram</td>\n      <td>19</td>\n      <td>https://cdn.sofifa.org/players/4/19/238813.png</td>\n      <td>England</td>\n      <td>https://cdn.sofifa.org/flags/14.png</td>\n      <td>47</td>\n      <td>65</td>\n      <td>Crewe Alexandra</td>\n      <td>...</td>\n      <td>45.0</td>\n      <td>40.0</td>\n      <td>48.0</td>\n      <td>47.0</td>\n      <td>10.0</td>\n      <td>13.0</td>\n      <td>7.0</td>\n      <td>8.0</td>\n      <td>9.0</td>\n      <td>143K</td>\n    </tr>\n    <tr>\n      <th>18203</th>\n      <td>18203</td>\n      <td>243165</td>\n      <td>N. Christoffersson</td>\n      <td>19</td>\n      <td>https://cdn.sofifa.org/players/4/19/243165.png</td>\n      <td>Sweden</td>\n      <td>https://cdn.sofifa.org/flags/46.png</td>\n      <td>47</td>\n      <td>63</td>\n      <td>Trelleborgs FF</td>\n      <td>...</td>\n      <td>42.0</td>\n      <td>22.0</td>\n      <td>15.0</td>\n      <td>19.0</td>\n      <td>10.0</td>\n      <td>9.0</td>\n      <td>9.0</td>\n      <td>5.0</td>\n      <td>12.0</td>\n      <td>113K</td>\n    </tr>\n    <tr>\n      <th>18204</th>\n      <td>18204</td>\n      <td>241638</td>\n      <td>B. Worman</td>\n      <td>16</td>\n      <td>https://cdn.sofifa.org/players/4/19/241638.png</td>\n      <td>England</td>\n      <td>https://cdn.sofifa.org/flags/14.png</td>\n      <td>47</td>\n      <td>67</td>\n      <td>Cambridge United</td>\n      <td>...</td>\n      <td>41.0</td>\n      <td>32.0</td>\n      <td>13.0</td>\n      <td>11.0</td>\n      <td>6.0</td>\n      <td>5.0</td>\n      <td>10.0</td>\n      <td>6.0</td>\n      <td>13.0</td>\n      <td>165K</td>\n    </tr>\n    <tr>\n      <th>18205</th>\n      <td>18205</td>\n      <td>246268</td>\n      <td>D. Walker-Rice</td>\n      <td>17</td>\n      <td>https://cdn.sofifa.org/players/4/19/246268.png</td>\n      <td>England</td>\n      <td>https://cdn.sofifa.org/flags/14.png</td>\n      <td>47</td>\n      <td>66</td>\n      <td>Tranmere Rovers</td>\n      <td>...</td>\n      <td>46.0</td>\n      <td>20.0</td>\n      <td>25.0</td>\n      <td>27.0</td>\n      <td>14.0</td>\n      <td>6.0</td>\n      <td>14.0</td>\n      <td>8.0</td>\n      <td>9.0</td>\n      <td>143K</td>\n    </tr>\n    <tr>\n      <th>18206</th>\n      <td>18206</td>\n      <td>246269</td>\n      <td>G. Nugent</td>\n      <td>16</td>\n      <td>https://cdn.sofifa.org/players/4/19/246269.png</td>\n      <td>England</td>\n      <td>https://cdn.sofifa.org/flags/14.png</td>\n      <td>46</td>\n      <td>66</td>\n      <td>Tranmere Rovers</td>\n      <td>...</td>\n      <td>43.0</td>\n      <td>40.0</td>\n      <td>43.0</td>\n      <td>50.0</td>\n      <td>10.0</td>\n      <td>15.0</td>\n      <td>9.0</td>\n      <td>12.0</td>\n      <td>9.0</td>\n      <td>165K</td>\n    </tr>\n  </tbody>\n</table>\n<p>18207 rows × 89 columns</p>\n</div>"
     },
     "execution_count": 6,
     "metadata": {},
     "output_type": "execute_result"
    }
   ],
   "source": [
    "import numpy as np              # Массивы (матрицы, векторы, линейная алгебра)\n",
    "import matplotlib.pyplot as plt # Научная графика\n",
    "%matplotlib inline\n",
    "    # Говорим jupyter'у, чтобы весь графический вывод был в браузере, а не в отдельном окне\n",
    "import pandas as pd             # Таблицы и временные ряды (dataframe, series)\n",
    "import seaborn as sns           # Еще больше красивой графики для визуализации данных\n",
    "import sklearn                  # Алгоритмы машинного обучения\n",
    "\n",
    "data = pd.read_csv('./data.csv', sep=',',engine = 'python')\n",
    "data\n",
    "\n"
   ],
   "metadata": {
    "collapsed": false,
    "pycharm": {
     "name": "#%%\n"
    }
   }
  }
 ],
 "metadata": {
  "kernelspec": {
   "display_name": "Python 3",
   "language": "python",
   "name": "python3"
  },
  "language_info": {
   "codemirror_mode": {
    "name": "ipython",
    "version": 2
   },
   "file_extension": ".py",
   "mimetype": "text/x-python",
   "name": "python",
   "nbconvert_exporter": "python",
   "pygments_lexer": "ipython2",
   "version": "2.7.6"
  }
 },
 "nbformat": 4,
 "nbformat_minor": 0
}